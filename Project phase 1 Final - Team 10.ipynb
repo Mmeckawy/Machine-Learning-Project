{
 "cells": [
  {
   "cell_type": "markdown",
   "id": "4dec8419",
   "metadata": {},
   "source": [
    "# PROJECT PHASE 1"
   ]
  },
  {
   "cell_type": "markdown",
   "id": "05a673fc",
   "metadata": {},
   "source": [
    "## Table Of Contents:\n",
    "* [KNN](#KNN)\n",
    "* [Logistic Regression](#Logistic_Regression)\n",
    "* [Naive Bayes](#Naive_Bayes)\n",
    "* [Feature Visualization](#Feature_visaulization)"
   ]
  },
  {
   "cell_type": "markdown",
   "id": "4f702955",
   "metadata": {},
   "source": [
    "   ## KNN  <a class=\"anchor\" id=\"KNN\"></a>"
   ]
  },
  {
   "cell_type": "code",
   "execution_count": 1,
   "id": "045529a8",
   "metadata": {},
   "outputs": [],
   "source": [
    "#Imports for KNN\n",
    "import pandas as pd\n",
    "import numpy as np\n",
    "import matplotlib.pyplot as plt\n",
    "%matplotlib inline\n",
    "from six.moves import urllib\n",
    "import os\n",
    "from sklearn.neighbors import KNeighborsClassifier\n",
    "from sklearn.model_selection import *\n",
    "from sklearn import datasets, neighbors\n",
    "from mlxtend.plotting import plot_decision_regions\n",
    "from sklearn.metrics import *\n",
    "from sklearn.preprocessing import OneHotEncoder\n",
    "from sklearn.multiclass import OneVsRestClassifier"
   ]
  },
  {
   "cell_type": "code",
   "execution_count": 2,
   "id": "3a45cd5b",
   "metadata": {},
   "outputs": [
    {
     "data": {
      "text/html": [
       "<div>\n",
       "<style scoped>\n",
       "    .dataframe tbody tr th:only-of-type {\n",
       "        vertical-align: middle;\n",
       "    }\n",
       "\n",
       "    .dataframe tbody tr th {\n",
       "        vertical-align: top;\n",
       "    }\n",
       "\n",
       "    .dataframe thead th {\n",
       "        text-align: right;\n",
       "    }\n",
       "</style>\n",
       "<table border=\"1\" class=\"dataframe\">\n",
       "  <thead>\n",
       "    <tr style=\"text-align: right;\">\n",
       "      <th></th>\n",
       "      <th>location</th>\n",
       "      <th>country</th>\n",
       "      <th>gender</th>\n",
       "      <th>age</th>\n",
       "      <th>vis_wuhan</th>\n",
       "      <th>from_wuhan</th>\n",
       "      <th>symptom1</th>\n",
       "      <th>symptom2</th>\n",
       "      <th>symptom3</th>\n",
       "      <th>symptom4</th>\n",
       "      <th>symptom5</th>\n",
       "      <th>symptom6</th>\n",
       "      <th>diff_sym_hos</th>\n",
       "      <th>result</th>\n",
       "    </tr>\n",
       "  </thead>\n",
       "  <tbody>\n",
       "    <tr>\n",
       "      <th>0</th>\n",
       "      <td>104</td>\n",
       "      <td>8</td>\n",
       "      <td>1</td>\n",
       "      <td>66.0</td>\n",
       "      <td>1</td>\n",
       "      <td>0</td>\n",
       "      <td>14</td>\n",
       "      <td>31</td>\n",
       "      <td>19</td>\n",
       "      <td>12</td>\n",
       "      <td>3</td>\n",
       "      <td>1</td>\n",
       "      <td>8</td>\n",
       "      <td>1</td>\n",
       "    </tr>\n",
       "    <tr>\n",
       "      <th>1</th>\n",
       "      <td>101</td>\n",
       "      <td>8</td>\n",
       "      <td>0</td>\n",
       "      <td>56.0</td>\n",
       "      <td>0</td>\n",
       "      <td>1</td>\n",
       "      <td>14</td>\n",
       "      <td>31</td>\n",
       "      <td>19</td>\n",
       "      <td>12</td>\n",
       "      <td>3</td>\n",
       "      <td>1</td>\n",
       "      <td>0</td>\n",
       "      <td>0</td>\n",
       "    </tr>\n",
       "    <tr>\n",
       "      <th>2</th>\n",
       "      <td>137</td>\n",
       "      <td>8</td>\n",
       "      <td>1</td>\n",
       "      <td>46.0</td>\n",
       "      <td>0</td>\n",
       "      <td>1</td>\n",
       "      <td>14</td>\n",
       "      <td>31</td>\n",
       "      <td>19</td>\n",
       "      <td>12</td>\n",
       "      <td>3</td>\n",
       "      <td>1</td>\n",
       "      <td>13</td>\n",
       "      <td>0</td>\n",
       "    </tr>\n",
       "    <tr>\n",
       "      <th>3</th>\n",
       "      <td>116</td>\n",
       "      <td>8</td>\n",
       "      <td>0</td>\n",
       "      <td>60.0</td>\n",
       "      <td>1</td>\n",
       "      <td>0</td>\n",
       "      <td>14</td>\n",
       "      <td>31</td>\n",
       "      <td>19</td>\n",
       "      <td>12</td>\n",
       "      <td>3</td>\n",
       "      <td>1</td>\n",
       "      <td>0</td>\n",
       "      <td>0</td>\n",
       "    </tr>\n",
       "    <tr>\n",
       "      <th>4</th>\n",
       "      <td>116</td>\n",
       "      <td>8</td>\n",
       "      <td>1</td>\n",
       "      <td>58.0</td>\n",
       "      <td>0</td>\n",
       "      <td>0</td>\n",
       "      <td>14</td>\n",
       "      <td>31</td>\n",
       "      <td>19</td>\n",
       "      <td>12</td>\n",
       "      <td>3</td>\n",
       "      <td>1</td>\n",
       "      <td>0</td>\n",
       "      <td>0</td>\n",
       "    </tr>\n",
       "  </tbody>\n",
       "</table>\n",
       "</div>"
      ],
      "text/plain": [
       "   location  country  gender   age  vis_wuhan  from_wuhan  symptom1  symptom2  \\\n",
       "0       104        8       1  66.0          1           0        14        31   \n",
       "1       101        8       0  56.0          0           1        14        31   \n",
       "2       137        8       1  46.0          0           1        14        31   \n",
       "3       116        8       0  60.0          1           0        14        31   \n",
       "4       116        8       1  58.0          0           0        14        31   \n",
       "\n",
       "   symptom3  symptom4  symptom5  symptom6  diff_sym_hos  result  \n",
       "0        19        12         3         1             8       1  \n",
       "1        19        12         3         1             0       0  \n",
       "2        19        12         3         1            13       0  \n",
       "3        19        12         3         1             0       0  \n",
       "4        19        12         3         1             0       0  "
      ]
     },
     "execution_count": 2,
     "metadata": {},
     "output_type": "execute_result"
    }
   ],
   "source": [
    "#read the data from the file\n",
    "df = pd.read_csv(r'data.csv', delimiter = \",\", header = 0, index_col = 0)\n",
    "#view data to check the file was correctly read\n",
    "df.head()"
   ]
  },
  {
   "cell_type": "code",
   "execution_count": 3,
   "id": "1b456fd6",
   "metadata": {},
   "outputs": [
    {
     "data": {
      "text/plain": [
       "(863, 14)"
      ]
     },
     "execution_count": 3,
     "metadata": {},
     "output_type": "execute_result"
    }
   ],
   "source": [
    "#Check rows and columns\n",
    "df.shape"
   ]
  },
  {
   "cell_type": "code",
   "execution_count": 4,
   "id": "32437422",
   "metadata": {},
   "outputs": [],
   "source": [
    "#Remove Symptom 6 column because it has almost the same value in all the rows\n",
    "df.drop('symptom6', inplace=True, axis=1)\n",
    "df.drop('symptom5', inplace=True, axis=1)\n"
   ]
  },
  {
   "cell_type": "markdown",
   "id": "f283f347",
   "metadata": {},
   "source": [
    "### Apply One Hot encoding to categorical features"
   ]
  },
  {
   "cell_type": "code",
   "execution_count": 5,
   "id": "55c5b2fd",
   "metadata": {},
   "outputs": [
    {
     "data": {
      "text/plain": [
       "(863, 188)"
      ]
     },
     "execution_count": 5,
     "metadata": {},
     "output_type": "execute_result"
    }
   ],
   "source": [
    "df = pd.concat([df, pd.get_dummies(df.location, prefix = 'location')], axis = 1)\n",
    "df = pd.concat([df, pd.get_dummies(df.country, prefix = 'country')], axis = 1)\n",
    "df = pd.concat([df, pd.get_dummies(df.gender, prefix = 'gender')], axis = 1)\n",
    "df.shape"
   ]
  },
  {
   "cell_type": "code",
   "execution_count": 6,
   "id": "c2664259",
   "metadata": {},
   "outputs": [],
   "source": [
    "Y = df.iloc[:, 11].values #results are in column 12\n",
    "X = df.iloc[:, :-1].values #All the columns except 12 and starting from column 0 are feature columns\n",
    "x_train, x_test, y_train, y_test = train_test_split(X, Y, test_size=0.15, random_state=20, shuffle = True)\n",
    "x_train, x_val, y_train, y_val = train_test_split(x_train, y_train, test_size=0.15, random_state=20, shuffle = True)"
   ]
  },
  {
   "cell_type": "markdown",
   "id": "7cb05efd",
   "metadata": {},
   "source": [
    "### Results after using One Hot Encoding"
   ]
  },
  {
   "cell_type": "code",
   "execution_count": 7,
   "id": "65ee86b1",
   "metadata": {},
   "outputs": [
    {
     "name": "stdout",
     "output_type": "stream",
     "text": [
      "Best K for the model = 1\n",
      "Accuracy = 0.9545454545454546\n"
     ]
    }
   ],
   "source": [
    "K_max = 0\n",
    "K_num = 0\n",
    "for i in range (1,15):\n",
    "    knn = KNeighborsClassifier(n_neighbors = i)\n",
    "    knn.fit(x_train,y_train)\n",
    "    #check accuracy\n",
    "    if (knn.score(x_val, y_val) > K_max):\n",
    "        K_max = knn.score(x_val, y_val)\n",
    "        K_num = i\n",
    "\n",
    "knn=KNeighborsClassifier(n_neighbors = K_num)\n",
    "knn.fit(x_train,y_train)\n",
    "\n",
    "print('Best K for the model = ' + str(K_num))\n",
    "print('Accuracy = ' + str(K_max))"
   ]
  },
  {
   "cell_type": "markdown",
   "id": "2b1685a6",
   "metadata": {},
   "source": [
    "## Finding the Optimal Hyperparameters"
   ]
  },
  {
   "cell_type": "code",
   "execution_count": 8,
   "id": "28cc73f3",
   "metadata": {},
   "outputs": [
    {
     "data": {
      "text/plain": [
       "GridSearchCV(cv=5, estimator=KNeighborsClassifier(n_neighbors=1),\n",
       "             param_grid={'n_neighbors': array([ 1,  2,  3,  4,  5,  6,  7,  8,  9, 10, 11, 12, 13, 14, 15, 16, 17,\n",
       "       18, 19, 20, 21, 22, 23, 24])})"
      ]
     },
     "execution_count": 8,
     "metadata": {},
     "output_type": "execute_result"
    }
   ],
   "source": [
    "#Finding K using GridSearch\n",
    "#create a dictionary of all values we want to test for n_neighbors\n",
    "#use gridsearch to test all values for n_neighbors\n",
    "#fit model to data\n",
    "\n",
    "param_grid = {'n_neighbors': np.arange(1, 25)}\n",
    "knn_gscv = GridSearchCV(knn, param_grid, cv=5)\n",
    "knn_gscv.fit(x_train, y_train)"
   ]
  },
  {
   "cell_type": "code",
   "execution_count": 9,
   "id": "4175915a",
   "metadata": {},
   "outputs": [
    {
     "data": {
      "text/plain": [
       "{'n_neighbors': 3}"
      ]
     },
     "execution_count": 9,
     "metadata": {},
     "output_type": "execute_result"
    }
   ],
   "source": [
    "#check top performing n_neighbors value\n",
    "knn_gscv.best_params_"
   ]
  },
  {
   "cell_type": "code",
   "execution_count": 10,
   "id": "5c5e4f1c",
   "metadata": {},
   "outputs": [
    {
     "data": {
      "text/plain": [
       "0.9486064516129031"
      ]
     },
     "execution_count": 10,
     "metadata": {},
     "output_type": "execute_result"
    }
   ],
   "source": [
    "#check mean score for the top performing value of n_neighbors\n",
    "knn_gscv.best_score_"
   ]
  },
  {
   "cell_type": "markdown",
   "id": "1b7594b4",
   "metadata": {},
   "source": [
    "## Plotting Decision Boundaries"
   ]
  },
  {
   "cell_type": "markdown",
   "id": "94b45f99",
   "metadata": {},
   "source": [
    "We cannot draw decision boundaries for more than 2 features, so we will test the plot on 2 features only"
   ]
  },
  {
   "cell_type": "code",
   "execution_count": 11,
   "id": "6b138e16",
   "metadata": {},
   "outputs": [
    {
     "data": {
      "image/png": "[encoded data removed]",
      "text/plain": [
       "<Figure size 432x288 with 1 Axes>"
      ]
     },
     "metadata": {
      "needs_background": "light"
     },
     "output_type": "display_data"
    },
    {
     "data": {
      "image/png": "[encoded data removed]",
      "text/plain": [
       "<Figure size 432x288 with 1 Axes>"
      ]
     },
     "metadata": {
      "needs_background": "light"
     },
     "output_type": "display_data"
    }
   ],
   "source": [
    "def knn_comparison(data, k):\n",
    "    X = data[['country','location']].values\n",
    "    Y = data['result' ].astype(int).values\n",
    "    clf = neighbors.KNeighborsClassifier(n_neighbors=k)\n",
    "    clf.fit(X, Y)# Plotting decision region\n",
    "    plot_decision_regions(X, Y, clf=clf, legend=1)\n",
    "    plt.xlabel('X')\n",
    "    plt.ylabel('Y')\n",
    "    plt.title('Knn with K='+ str(k))\n",
    "    plt.show()\n",
    "for i in [1,3]:\n",
    "    knn_comparison(df, i)"
   ]
  },
  {
   "cell_type": "markdown",
   "id": "70ee22fe",
   "metadata": {},
   "source": [
    "### Precision, Recall and F1"
   ]
  },
  {
   "cell_type": "code",
   "execution_count": 12,
   "id": "92f41e1a",
   "metadata": {},
   "outputs": [],
   "source": [
    "y_val_pred = cross_val_predict(knn_gscv, x_val, y_val, cv=5)"
   ]
  },
  {
   "cell_type": "code",
   "execution_count": 13,
   "id": "0769f855",
   "metadata": {},
   "outputs": [
    {
     "name": "stdout",
     "output_type": "stream",
     "text": [
      "Precision = 0.7976190476190477\n"
     ]
    }
   ],
   "source": [
    "print('Precision = ' + str(precision_score(y_val,y_val_pred, average=\"macro\")))"
   ]
  },
  {
   "cell_type": "code",
   "execution_count": 14,
   "id": "d85ef401",
   "metadata": {},
   "outputs": [
    {
     "name": "stdout",
     "output_type": "stream",
     "text": [
      "Recall = 0.7456140350877193\n"
     ]
    }
   ],
   "source": [
    "print('Recall = ' + str(recall_score(y_val,y_val_pred, average=\"macro\")))"
   ]
  },
  {
   "cell_type": "code",
   "execution_count": 15,
   "id": "f7beea04",
   "metadata": {},
   "outputs": [
    {
     "name": "stdout",
     "output_type": "stream",
     "text": [
      "F1 = 0.7677988869698713\n"
     ]
    }
   ],
   "source": [
    "print('F1 = ' + str(f1_score(y_val,y_val_pred, average=\"macro\")))"
   ]
  },
  {
   "cell_type": "markdown",
   "id": "6069faff",
   "metadata": {},
   "source": [
    "## Precision and Recall Graph"
   ]
  },
  {
   "cell_type": "code",
   "execution_count": 16,
   "id": "9656ac5c",
   "metadata": {},
   "outputs": [
    {
     "data": {
      "text/plain": [
       "Text(0, 0.5, 'Precision')"
      ]
     },
     "execution_count": 16,
     "metadata": {},
     "output_type": "execute_result"
    },
    {
     "data": {
      "image/png": "[encoded data removed]",
      "text/plain": [
       "<Figure size 432x288 with 1 Axes>"
      ]
     },
     "metadata": {
      "needs_background": "light"
     },
     "output_type": "display_data"
    }
   ],
   "source": [
    "y_scores = cross_val_predict(knn_gscv, x_val, y_val, cv=5, method = \"predict_proba\")\n",
    "ys = y_scores[:,1]\n",
    "precisions, recalls, thresholds = precision_recall_curve(y_val,ys)\n",
    "plt.plot(recalls,precisions)\n",
    "plt.title(\"Precision vs. Recall\")\n",
    "plt.xlabel(\"Recall\")\n",
    "plt.ylabel(\"Precision\")"
   ]
  },
  {
   "cell_type": "code",
   "execution_count": 17,
   "id": "defd1ecf",
   "metadata": {},
   "outputs": [
    {
     "data": {
      "image/png": "[encoded data removed]",
      "text/plain": [
       "<Figure size 432x288 with 1 Axes>"
      ]
     },
     "metadata": {
      "needs_background": "light"
     },
     "output_type": "display_data"
    }
   ],
   "source": [
    "plt.plot(thresholds, precisions[:-1], \"b--\", label=\"Precision\")\n",
    "plt.plot(thresholds, recalls[:-1], \"g--\", label=\"Recall\")\n",
    "plt.xlabel(\"Threshold\")\n",
    "plt.legend(bbox_to_anchor=(1.05, 1), loc='upper left', borderaxespad=0.)\n",
    "plt.grid(b=True, which=\"both\", axis=\"both\", color='gray', linestyle='-', linewidth=1)"
   ]
  },
  {
   "cell_type": "markdown",
   "id": "64f71846",
   "metadata": {},
   "source": [
    "## ROC and AUC"
   ]
  },
  {
   "cell_type": "code",
   "execution_count": 18,
   "id": "b659e248",
   "metadata": {},
   "outputs": [
    {
     "data": {
      "text/plain": [
       "Text(0, 0.5, 'True Positive Rate')"
      ]
     },
     "execution_count": 18,
     "metadata": {},
     "output_type": "execute_result"
    },
    {
     "data": {
      "image/png": "[encoded data removed]",
      "text/plain": [
       "<Figure size 432x288 with 1 Axes>"
      ]
     },
     "metadata": {
      "needs_background": "light"
     },
     "output_type": "display_data"
    }
   ],
   "source": [
    "fpr, tpr, thresholds = roc_curve(y_val,ys)\n",
    "plt.plot(fpr, tpr)\n",
    "plt.title(\"ROC Curve\")\n",
    "plt.xlabel(\"False Positive Rate\")\n",
    "plt.ylabel(\"True Positive Rate\")"
   ]
  },
  {
   "cell_type": "code",
   "execution_count": 19,
   "id": "16eab4fc",
   "metadata": {},
   "outputs": [
    {
     "data": {
      "text/plain": [
       "0.7943859649122808"
      ]
     },
     "execution_count": 19,
     "metadata": {},
     "output_type": "execute_result"
    }
   ],
   "source": [
    "#Area under curve (AUC) value\n",
    "roc_auc_score(y_val,ys)"
   ]
  },
  {
   "cell_type": "markdown",
   "id": "c36f6bb3",
   "metadata": {},
   "source": [
    "## Do the Same Calculations on Test Data"
   ]
  },
  {
   "cell_type": "code",
   "execution_count": 20,
   "id": "0baecece",
   "metadata": {},
   "outputs": [
    {
     "name": "stdout",
     "output_type": "stream",
     "text": [
      "Precision = 0.8897783251231527\n"
     ]
    }
   ],
   "source": [
    "#y_test_pred = cross_val_predict(knn_gscv, x_test, y_test, cv=5)\n",
    "y_test_pred= knn_gscv.predict(x_test)\n",
    "print('Precision = ' + str(precision_score(y_test,y_test_pred, average=\"macro\")))"
   ]
  },
  {
   "cell_type": "code",
   "execution_count": 21,
   "id": "91dc8639",
   "metadata": {},
   "outputs": [
    {
     "name": "stdout",
     "output_type": "stream",
     "text": [
      "Recall = 0.7765399737876801\n"
     ]
    }
   ],
   "source": [
    "print('Recall = ' + str(recall_score(y_test,y_test_pred, average = \"macro\")))"
   ]
  },
  {
   "cell_type": "code",
   "execution_count": 22,
   "id": "032c5294",
   "metadata": {},
   "outputs": [
    {
     "name": "stdout",
     "output_type": "stream",
     "text": [
      "F1 = 0.8184126984126984\n"
     ]
    }
   ],
   "source": [
    "print('F1 = ' + str(f1_score(y_test,y_test_pred, average=\"macro\")))"
   ]
  },
  {
   "cell_type": "code",
   "execution_count": 23,
   "id": "d1c22206",
   "metadata": {},
   "outputs": [
    {
     "data": {
      "text/plain": [
       "Text(0, 0.5, 'Precision')"
      ]
     },
     "execution_count": 23,
     "metadata": {},
     "output_type": "execute_result"
    },
    {
     "data": {
      "image/png": "[encoded data removed]",
      "text/plain": [
       "<Figure size 432x288 with 1 Axes>"
      ]
     },
     "metadata": {
      "needs_background": "light"
     },
     "output_type": "display_data"
    }
   ],
   "source": [
    "y_scores_test = knn_gscv.predict_proba(x_test)\n",
    "precisions, recalls, thresholds = precision_recall_curve(y_test,y_scores_test[:,1])\n",
    "plt.plot(recalls,precisions)\n",
    "plt.title(\"Precision vs. Recall\")\n",
    "plt.xlabel(\"Recall\")\n",
    "plt.ylabel(\"Precision\")\n"
   ]
  },
  {
   "cell_type": "code",
   "execution_count": 24,
   "id": "21268985",
   "metadata": {},
   "outputs": [
    {
     "data": {
      "image/png": "[encoded data removed]",
      "text/plain": [
       "<Figure size 432x288 with 1 Axes>"
      ]
     },
     "metadata": {
      "needs_background": "light"
     },
     "output_type": "display_data"
    }
   ],
   "source": [
    "plt.plot(thresholds, precisions[:-1], \"b--\", label=\"Precision\")\n",
    "plt.plot(thresholds, recalls[:-1], \"g--\", label=\"Recall\")\n",
    "plt.xlabel(\"Threshold\")\n",
    "plt.legend(bbox_to_anchor=(1.05, 1), loc='upper left', borderaxespad=0.)\n",
    "plt.grid(b=True, which=\"both\", axis=\"both\", color='gray', linestyle='-', linewidth=1)"
   ]
  },
  {
   "cell_type": "code",
   "execution_count": 25,
   "id": "5394ed62",
   "metadata": {
    "scrolled": true
   },
   "outputs": [
    {
     "data": {
      "text/plain": [
       "Text(0, 0.5, 'True Positive Rate')"
      ]
     },
     "execution_count": 25,
     "metadata": {},
     "output_type": "execute_result"
    },
    {
     "data": {
      "image/png": "[encoded data removed]",
      "text/plain": [
       "<Figure size 432x288 with 1 Axes>"
      ]
     },
     "metadata": {
      "needs_background": "light"
     },
     "output_type": "display_data"
    }
   ],
   "source": [
    "fpr, tpr, thresholds = roc_curve(y_test,y_scores_test[:,1])\n",
    "plt.plot(fpr, tpr)\n",
    "plt.title(\"ROC Curve\")\n",
    "plt.xlabel(\"False Positive Rate\")\n",
    "plt.ylabel(\"True Positive Rate\")"
   ]
  },
  {
   "cell_type": "code",
   "execution_count": 26,
   "id": "541a430d",
   "metadata": {},
   "outputs": [
    {
     "data": {
      "text/plain": [
       "0.7765399737876801"
      ]
     },
     "execution_count": 26,
     "metadata": {},
     "output_type": "execute_result"
    }
   ],
   "source": [
    "roc_auc_score(y_test,y_test_pred)"
   ]
  },
  {
   "cell_type": "code",
   "execution_count": 27,
   "id": "8ba28f8a",
   "metadata": {},
   "outputs": [
    {
     "name": "stdout",
     "output_type": "stream",
     "text": [
      "Accuracy = 0.9153846153846154\n"
     ]
    }
   ],
   "source": [
    "#testing accuracy\n",
    "acc = knn.score(x_test,y_test)\n",
    "print('Accuracy = ' + str(acc))"
   ]
  },
  {
   "cell_type": "markdown",
   "id": "c985d4a2",
   "metadata": {},
   "source": [
    "# Logistic Regression<a class=\"anchor\" id=\"Logistic_Regression\"></a>"
   ]
  },
  {
   "cell_type": "code",
   "execution_count": 28,
   "id": "211e88e0",
   "metadata": {},
   "outputs": [],
   "source": [
    "#imports for Logistic Regression\n",
    "from sklearn.linear_model import LinearRegression\n",
    "from sklearn.model_selection import train_test_split, GridSearchCV\n",
    "from sklearn.linear_model import LogisticRegression\n",
    "from sklearn.model_selection import cross_val_score\n",
    "from sklearn.metrics import confusion_matrix, precision_score, recall_score, f1_score, precision_recall_curve\n",
    "from sklearn.metrics import roc_curve, roc_auc_score, auc, accuracy_score, classification_report\n",
    "import warnings\n",
    "warnings.filterwarnings('ignore')"
   ]
  },
  {
   "cell_type": "code",
   "execution_count": 29,
   "id": "7182afa0",
   "metadata": {},
   "outputs": [],
   "source": [
    "#Reading data \n",
    "data = pd.read_csv(r'data.csv', delimiter = \",\",  header = 0, index_col = 0)"
   ]
  },
  {
   "cell_type": "code",
   "execution_count": 30,
   "id": "32c30301",
   "metadata": {},
   "outputs": [],
   "source": [
    "#splitting the data to X (features) and Y (results) \n",
    "X = data[[\"location\",\"country\",\"gender\",\"age\",\"vis_wuhan\",\"from_wuhan\",\"symptom1\",\"symptom2\",\"symptom3\",\"symptom4\",\"symptom5\",\"symptom6\",\"diff_sym_hos\"]]\n",
    "y = data[\"result\"]\n",
    "\n",
    "#dropping symptom5 and symptom6 as they are constant for all dataset\n",
    "X.drop(\"symptom6\", axis =1, inplace = True)\n",
    "X.drop(\"symptom5\", axis =1, inplace = True)\n",
    "\n",
    "\n",
    "#splitting the data set into train data and test data\n",
    "X_train, X_test, y_train, y_test = train_test_split (X, y, test_size=0.15, random_state=0, shuffle=True)\n",
    "\n",
    "#splitting the train data into train data and validation data\n",
    "X_train, X_val, y_train, y_val = train_test_split (X_train, y_train, test_size=0.15, random_state=0, shuffle=True)"
   ]
  },
  {
   "cell_type": "markdown",
   "id": "68a9934f",
   "metadata": {},
   "source": [
    "## Hyper-Parameter Optimization"
   ]
  },
  {
   "cell_type": "code",
   "execution_count": 31,
   "id": "b59db01e",
   "metadata": {},
   "outputs": [
    {
     "name": "stdout",
     "output_type": "stream",
     "text": [
      "Optimal Hyperparameters:  {'C': 100, 'class_weight': 'balanced'}\n"
     ]
    }
   ],
   "source": [
    "#creating instance of Logistic Regression\n",
    "LR = LogisticRegression()\n",
    "\n",
    "#Using GridSearch Function to tune Hyper-parameter\n",
    "param_grid = {'C': [0.001, 0.01, 0.1, 1, 10, 100, 1000], 'class_weight':['balanced']}\n",
    "LR_new = GridSearchCV(LR, param_grid,cv=5)\n",
    "\n",
    "#training the Optimal model\n",
    "LR_new.fit(X_train,y_train)\n",
    "\n",
    "print(\"Optimal Hyperparameters: \", LR_new.best_params_)"
   ]
  },
  {
   "cell_type": "markdown",
   "id": "a1b1eda0",
   "metadata": {},
   "source": [
    "## Cross validating"
   ]
  },
  {
   "cell_type": "code",
   "execution_count": null,
   "id": "014a9529",
   "metadata": {},
   "outputs": [],
   "source": [
    "#cross validation prediction\n",
    "cv_predict = cross_val_predict(LR_new, X_val, y_val, cv=5)\n",
    "\n",
    "#decision function scores with validation data using cross validation\n",
    "y_scores_validation = cross_val_predict(LR_new, X_val, y_val, cv=5, method=\"decision_function\")"
   ]
  },
  {
   "cell_type": "code",
   "execution_count": null,
   "id": "b3b1f9f0",
   "metadata": {},
   "outputs": [],
   "source": [
    "#Printing out the confusion matrix\n",
    "print(\"Confusion Matrix =\\n\", confusion_matrix(y_val, cv_predict))"
   ]
  },
  {
   "cell_type": "markdown",
   "id": "915f9855",
   "metadata": {},
   "source": [
    "## Calculating Precision, Recall, and F1-Scores"
   ]
  },
  {
   "cell_type": "code",
   "execution_count": null,
   "id": "11750710",
   "metadata": {},
   "outputs": [],
   "source": [
    "#Calculating the average precision, recall and f1\n",
    "print(\"Precision Score is = \", precision_score(y_val, cv_predict, average='macro'))\n",
    "print(\"Recall Score is = \", recall_score(y_val, cv_predict, average='macro'))\n",
    "print(\"F-1 Score is = \", f1_score(y_val, cv_predict, average='macro'))\n"
   ]
  },
  {
   "cell_type": "markdown",
   "id": "bfec8862",
   "metadata": {},
   "source": [
    "## Visualizing Graphs"
   ]
  },
  {
   "cell_type": "code",
   "execution_count": null,
   "id": "fbe5f5c0",
   "metadata": {},
   "outputs": [],
   "source": [
    "precisions, recalls, thresholds = precision_recall_curve(y_val,y_scores_validation)\n",
    "plt.plot(recalls,precisions)\n",
    "plt.title(\"Precision vs. Recall\")\n",
    "plt.xlabel(\"Recall\")\n",
    "plt.ylabel(\"Precision\")"
   ]
  },
  {
   "cell_type": "code",
   "execution_count": null,
   "id": "a47f7e20",
   "metadata": {},
   "outputs": [],
   "source": [
    "#Plotting Threshold curve\n",
    "precisions, recalls, thresholds = precision_recall_curve(y_val, y_scores_validation)\n",
    "plt.plot(thresholds, precisions[:-1], \"b--\", label=\"Precision\")\n",
    "plt.plot(thresholds, recalls[:-1], \"g--\", label=\"Recall\")\n",
    "plt.xlabel(\"Threshold\")\n",
    "plt.title('Precision/Recall Curve')\n",
    "plt.legend(bbox_to_anchor=(1.05, 1), loc='upper left', borderaxespad=0.)\n",
    "plt.grid(b=True, which=\"both\", axis=\"both\", color='gray', linestyle='-', linewidth=1)\n",
    "plt.show()"
   ]
  },
  {
   "cell_type": "code",
   "execution_count": null,
   "id": "62f22d20",
   "metadata": {},
   "outputs": [],
   "source": [
    "#visualizing roc auc\n",
    "fpr, tpr, thresholds = roc_curve(y_val, y_scores_validation)\n",
    "roc_auc = auc(fpr, tpr)\n",
    "plt.plot(fpr, tpr, label='ROC curve' )\n",
    "plt.plot([0, 1], [0, 1], 'k--')  \n",
    "plt.xlim([0.0, 1.0])\n",
    "plt.ylim([0.0, 1.0])\n",
    "plt.xlabel('False Positive Rate')\n",
    "plt.ylabel('True Positive Rate')\n",
    "plt.title('ROC Curve')\n",
    "plt.legend(loc=\"lower right\")"
   ]
  },
  {
   "cell_type": "code",
   "execution_count": null,
   "id": "ba2102c3",
   "metadata": {},
   "outputs": [],
   "source": [
    "#calculating ROC/AUC score\n",
    "Roc_Auc = roc_auc_score(y_val, cv_predict)\n",
    "print(\"ROC/AUC Score = \", Roc_Auc)"
   ]
  },
  {
   "cell_type": "code",
   "execution_count": null,
   "id": "00b34b6b",
   "metadata": {},
   "outputs": [],
   "source": [
    "#classification report for precision - recall - F1-score\n",
    "print(classification_report(y_val, cv_predict))"
   ]
  },
  {
   "cell_type": "markdown",
   "id": "9253b1a4",
   "metadata": {},
   "source": [
    "## Calculating Precision, Recall, and F1-Score using Test Data"
   ]
  },
  {
   "cell_type": "code",
   "execution_count": null,
   "id": "6186221d",
   "metadata": {},
   "outputs": [],
   "source": [
    "#model predictions with test data\n",
    "test_predict = LR_new.predict(X_test)\n",
    "\n",
    "#decision function scores with test data\n",
    "y_scores_test = LR_new.decision_function(X_test)"
   ]
  },
  {
   "cell_type": "code",
   "execution_count": null,
   "id": "736dbbc9",
   "metadata": {},
   "outputs": [],
   "source": [
    "#Calculating the accuracy\n",
    "print(\"Accuracy = \", accuracy_score(y_test ,test_predict))"
   ]
  },
  {
   "cell_type": "code",
   "execution_count": null,
   "id": "d20a5723",
   "metadata": {},
   "outputs": [],
   "source": [
    "#Printing the confusion matrix\n",
    "print(\"Confusion Matrix =\\n\", confusion_matrix(y_test, test_predict))"
   ]
  },
  {
   "cell_type": "code",
   "execution_count": null,
   "id": "b0bdacb9",
   "metadata": {},
   "outputs": [],
   "source": [
    "#Calculating the average precision, recall and f1\n",
    "print(\"Precision Score is = \", precision_score(y_test, test_predict, average='macro'))\n",
    "print(\"Recall Score is = \", recall_score(y_test, test_predict, average='macro'))\n",
    "print(\"F-1 Score is = \", f1_score(y_test, test_predict, average='macro'))"
   ]
  },
  {
   "cell_type": "markdown",
   "id": "dcb4a7fd",
   "metadata": {},
   "source": [
    "## Visualizing the Graphs"
   ]
  },
  {
   "cell_type": "code",
   "execution_count": null,
   "id": "7416bdfc",
   "metadata": {},
   "outputs": [],
   "source": [
    "#plotting Precision VS Recall Curve\n",
    "precisions, recalls, thresholds = precision_recall_curve(y_test,y_scores_test)\n",
    "plt.plot(recalls,precisions)\n",
    "plt.title(\"Precision vs. Recall\")\n",
    "plt.xlabel(\"Recall\")\n",
    "plt.ylabel(\"Precision\")\n"
   ]
  },
  {
   "cell_type": "code",
   "execution_count": null,
   "id": "cd4f8982",
   "metadata": {},
   "outputs": [],
   "source": [
    "#Plotting Threshold curve\n",
    "precisions, recalls, thresholds = precision_recall_curve(y_test, y_scores_test)\n",
    "plt.plot(thresholds, precisions[:-1], \"b--\", label=\"Precision\")\n",
    "plt.plot(thresholds, recalls[:-1], \"g--\", label=\"Recall\")\n",
    "plt.xlabel(\"Threshold\")\n",
    "plt.title('Precision/Recall Curve')\n",
    "plt.legend(bbox_to_anchor=(1.05, 1), loc='upper left', borderaxespad=0.)\n",
    "plt.grid(b=True, which=\"both\", axis=\"both\", color='gray', linestyle='-', linewidth=1)\n",
    "plt.show()"
   ]
  },
  {
   "cell_type": "code",
   "execution_count": null,
   "id": "9f881f13",
   "metadata": {},
   "outputs": [],
   "source": [
    "#visualizing roc auc\n",
    "fpr, tpr, thresholds = roc_curve(y_test, y_scores_test)\n",
    "roc_auc = auc(fpr, tpr)\n",
    "plt.plot(fpr, tpr, label='ROC curve' )\n",
    "plt.plot([0, 1], [0, 1], 'k--')  \n",
    "plt.xlim([0.0, 1.0])\n",
    "plt.ylim([0.0, 1.0])\n",
    "plt.xlabel('False Positive Rate')\n",
    "plt.ylabel('True Positive Rate')\n",
    "plt.title('ROC Curve')\n",
    "plt.legend(loc=\"lower right\")"
   ]
  },
  {
   "cell_type": "code",
   "execution_count": null,
   "id": "ad07e64d",
   "metadata": {},
   "outputs": [],
   "source": [
    "#calculating ROC/AUC score\n",
    "Roc_Auc = roc_auc_score(y_test, test_predict)\n",
    "print(\"ROC/AUC Score = \", Roc_Auc)"
   ]
  },
  {
   "cell_type": "code",
   "execution_count": null,
   "id": "5805b940",
   "metadata": {},
   "outputs": [],
   "source": [
    "#classification report\n",
    "print(classification_report(y_test, test_predict))"
   ]
  },
  {
   "cell_type": "markdown",
   "id": "9dc3f776",
   "metadata": {},
   "source": [
    "# Naive Bayes <a class=\"anchor\" id=\"Naive_Bayes\"></a> "
   ]
  },
  {
   "cell_type": "code",
   "execution_count": null,
   "id": "b0fe1a6e",
   "metadata": {},
   "outputs": [],
   "source": [
    "#Imports for Naive Bayes\n",
    "import matplotlib.colors as colors\n",
    "from matplotlib.colors import ListedColormap\n",
    "\n",
    "\n",
    "from sklearn.naive_bayes import GaussianNB\n",
    "from sklearn.model_selection import train_test_split\n",
    "from sklearn import neighbors, datasets , metrics\n",
    "from sklearn.metrics import confusion_matrix,f1_score,PrecisionRecallDisplay ,classification_report\n",
    "from sklearn.metrics import precision_score,recall_score,precision_recall_curve , accuracy_score\n",
    "from sklearn import svm, datasets"
   ]
  },
  {
   "cell_type": "code",
   "execution_count": null,
   "id": "39a68872",
   "metadata": {},
   "outputs": [],
   "source": [
    "#Create Naive Bayes classifier:\n",
    "gnb = GaussianNB()\n",
    "\n",
    "#Read dataset:\n",
    "dataset = pd.read_csv(r\"data.csv\")\n",
    "\n",
    "#Features in Variable X\n",
    "X = dataset[[\"location\", \"country\", \"gender\", \"age\", \"vis_wuhan\", \"from_wuhan\", \"symptom1\", \"symptom2\" , \"symptom3\" , \"symptom4\",\"symptom5\" ,\"symptom6\", \"diff_sym_hos\"]]\n",
    "\n",
    "#removed symptom6 as it is constant for all the dataset \n",
    "X.drop(\"symptom6\", axis =1, inplace = True)\n",
    "X.drop(\"symptom5\", axis =1, inplace = True)\n",
    "\n",
    "#Classes in Variable y\n",
    "y= dataset[\"result\"]\n"
   ]
  },
  {
   "cell_type": "markdown",
   "id": "06d7047b",
   "metadata": {},
   "source": [
    "## Splitting the Data and Cross Validating"
   ]
  },
  {
   "cell_type": "code",
   "execution_count": null,
   "id": "d4fe4560",
   "metadata": {},
   "outputs": [],
   "source": [
    "#splitting the data to test and trian\n",
    "X_train,X_test, y_train, y_test =  train_test_split (X,y, test_size= 0.2, random_state=0, shuffle= True)\n",
    "#splitting the data to Validation and trian\n",
    "X_train_2,X_validate, y_train_2, y_validate =  train_test_split (X_train,y_train, test_size= 0.2, random_state=0, shuffle= True)\n",
    "\n",
    "#Training the Model\n",
    "gnb.fit(X_train_2, y_train_2)\n",
    "\n",
    "#Predicting the output using cross validation\n",
    "y_CV_Pred = cross_val_predict(gnb, X_validate, y_validate, cv=5)\n",
    "\n",
    "#Getting confusion Matrix\n",
    "print(confusion_matrix(y_validate , y_CV_Pred))     # [ True Negative    // False Postive ]\n",
    "                                                    # [ Fasle Negative   // True Postive  ]"
   ]
  },
  {
   "cell_type": "markdown",
   "id": "4dc46f2e",
   "metadata": {},
   "source": [
    "## Calculating Precision, Recall, and F1-Score"
   ]
  },
  {
   "cell_type": "code",
   "execution_count": null,
   "id": "44833c42",
   "metadata": {},
   "outputs": [],
   "source": [
    "#calculating precision and reall\n",
    "precision = precision_score(y_validate, y_CV_Pred, average= \"macro\")\n",
    "recall = recall_score(y_validate, y_CV_Pred, average= \"macro\")\n",
    "print(\"Recall: \", recall)\n",
    "print(\"Precision: \", precision)"
   ]
  },
  {
   "cell_type": "code",
   "execution_count": null,
   "id": "6702ccc2",
   "metadata": {},
   "outputs": [],
   "source": [
    "#Getting F1_Score\n",
    "F1 = f1_score(y_validate, y_CV_Pred, average= \"macro\")\n",
    "print(\"F1_score: \", F1)\n"
   ]
  },
  {
   "cell_type": "code",
   "execution_count": null,
   "id": "3c1ad0f2",
   "metadata": {},
   "outputs": [],
   "source": [
    "#Getting Accuracy of the Model\n",
    "print (\"Accuracy: \", gnb.score(X_validate,y_validate))\n",
    "cv_scores = cross_val_score(gnb, X_validate, y_validate, cv=5, scoring=\"accuracy\")\n",
    "print(\"Accuracy = \", cv_scores)\n"
   ]
  },
  {
   "cell_type": "markdown",
   "id": "ff7155f1",
   "metadata": {},
   "source": [
    "## Visualization of Graphs"
   ]
  },
  {
   "cell_type": "code",
   "execution_count": null,
   "id": "cbd79085",
   "metadata": {},
   "outputs": [],
   "source": [
    "#Getting Scores of cross validation\n",
    "y_scores = cross_val_predict(gnb, X_validate, y_validate, cv=5,method = \"predict_proba\")\n",
    "y_scores_ = y_scores[:,1]\n",
    "\n",
    "#Visualizing the Precision vs. Recall Curve\n",
    "precisions, recalls, thresholds = precision_recall_curve(y_validate,y_scores_)\n",
    "plt.plot(recalls,precisions)\n",
    "plt.title(\"Precision vs. Recall\")\n",
    "plt.xlabel(\"Recall\")\n",
    "plt.ylabel(\"Precision\")\n"
   ]
  },
  {
   "cell_type": "code",
   "execution_count": null,
   "id": "eb80a904",
   "metadata": {},
   "outputs": [],
   "source": [
    "#Visualizing the Threshold Curve\n",
    "plt.plot(thresholds, precisions[:-1], \"b--\", label=\"Precision\")\n",
    "plt.plot(thresholds, recalls[:-1], \"g--\", label=\"Recall\")\n",
    "plt.xlabel(\"Threshold\")\n",
    "plt.legend(bbox_to_anchor=(1, 1))\n",
    "plt.grid(b=True, which=\"both\", axis=\"both\", color='gray', linestyle='-', linewidth=1)"
   ]
  },
  {
   "cell_type": "code",
   "execution_count": null,
   "id": "16ea9f4d",
   "metadata": {},
   "outputs": [],
   "source": [
    "#Creating ROC \n",
    "fpr, tpr, thresholds = metrics.roc_curve(y_validate,y_score= y_scores_ )\n",
    "\n",
    "#Visualizing ROC Curve\n",
    "plt.figure()\n",
    "plt.plot(fpr,tpr)\n",
    "plt.plot([0, 1], [0, 1], color=\"navy\", lw=2, linestyle=\"--\")\n",
    "plt.xlim([0.0, 1.0])\n",
    "plt.ylim([0.0, 1.05])\n",
    "plt.xlabel(\"False Positive Rate\")\n",
    "plt.ylabel(\"True Positive Rate\")\n",
    "plt.title(\"Gaussian Naive Bayes ROC \")\n",
    "plt.show()"
   ]
  },
  {
   "cell_type": "code",
   "execution_count": null,
   "id": "6e81f965",
   "metadata": {},
   "outputs": [],
   "source": [
    "#Getting the AUC score\n",
    "metrics.roc_auc_score(y_validate,y_CV_Pred)"
   ]
  },
  {
   "cell_type": "code",
   "execution_count": null,
   "id": "6783a07b",
   "metadata": {},
   "outputs": [],
   "source": [
    "print(classification_report(y_validate, y_CV_Pred))"
   ]
  },
  {
   "cell_type": "markdown",
   "id": "51522465",
   "metadata": {},
   "source": [
    "## Calculating the Precision, Recall, and F1-Sco with the Test Data"
   ]
  },
  {
   "cell_type": "code",
   "execution_count": null,
   "id": "1cbc3263",
   "metadata": {},
   "outputs": [],
   "source": [
    "#Predicting y\n",
    "y_predict_2 = gnb.predict(X_test)\n",
    "\n",
    "#Getting confusion Matrix\n",
    "print(confusion_matrix(y_test , y_predict_2))     # [ True Negative    // False Postive ]\n",
    "                                                  # [ Fasle Negative   // True Postive  ]"
   ]
  },
  {
   "cell_type": "code",
   "execution_count": null,
   "id": "3fc26666",
   "metadata": {},
   "outputs": [],
   "source": [
    "#calculating precision and reall\n",
    "precision = precision_score(y_test, y_predict_2, average= \"macro\")\n",
    "recall = recall_score(y_test, y_predict_2, average= \"macro\")\n",
    "print(\"Recall: \", recall)\n",
    "print(\"Precision: \", precision)"
   ]
  },
  {
   "cell_type": "code",
   "execution_count": null,
   "id": "1a60a2a3",
   "metadata": {},
   "outputs": [],
   "source": [
    "#Getting F1_Score\n",
    "F1 = f1_score(y_test, y_predict_2, average= \"macro\")\n",
    "print(\"F1_score: \", F1)\n"
   ]
  },
  {
   "cell_type": "code",
   "execution_count": null,
   "id": "24136971",
   "metadata": {},
   "outputs": [],
   "source": [
    "#Getting Accuracy of the Model\n",
    "print (\"Accuracy: \", gnb.score(X_test,y_test))"
   ]
  },
  {
   "cell_type": "markdown",
   "id": "7d42500c",
   "metadata": {},
   "source": [
    "## Visualization of Graphs using the Test Data"
   ]
  },
  {
   "cell_type": "code",
   "execution_count": null,
   "id": "16f2db70",
   "metadata": {},
   "outputs": [],
   "source": [
    "#Getting Scores of test \n",
    "y_scores_test = gnb.predict_proba(X_test)\n",
    "\n",
    "#Visualizing the Precision vs. Recall Curve\n",
    "precisions, recalls, thresholds = precision_recall_curve(y_test, y_scores_test[:,1])\n",
    "plt.plot(recalls,precisions)\n",
    "plt.title(\"Precision vs. Recall\")\n",
    "plt.xlabel(\"Recall\")\n",
    "plt.ylabel(\"Precision\")\n"
   ]
  },
  {
   "cell_type": "code",
   "execution_count": null,
   "id": "6ecc7a3e",
   "metadata": {},
   "outputs": [],
   "source": [
    "#Visualizing the Threshold Curve\n",
    "plt.plot(thresholds, precisions[:-1], \"b--\", label=\"Precision\")\n",
    "plt.plot(thresholds, recalls[:-1], \"g--\", label=\"Recall\")\n",
    "plt.xlabel(\"Threshold\")\n",
    "plt.legend(bbox_to_anchor=(1, 1))\n",
    "plt.grid(b=True, which=\"both\", axis=\"both\", color='gray', linestyle='-', linewidth=1)"
   ]
  },
  {
   "cell_type": "code",
   "execution_count": null,
   "id": "86ea6f2a",
   "metadata": {},
   "outputs": [],
   "source": [
    "#Creating ROC \n",
    "fpr, tpr, thresholds = metrics.roc_curve(y_test,y_score= y_scores_test[:,1] )\n",
    "\n",
    "#Visualizing ROC Curve\n",
    "plt.figure()\n",
    "plt.plot(fpr,tpr)\n",
    "plt.plot([0, 1], [0, 1], color=\"navy\", lw=2, linestyle=\"--\")\n",
    "plt.xlim([0.0, 1.0])\n",
    "plt.ylim([0.0, 1.05])\n",
    "plt.xlabel(\"False Positive Rate\")\n",
    "plt.ylabel(\"True Positive Rate\")\n",
    "plt.title(\"Gaussian Naive Bayes ROC \")\n",
    "plt.show()"
   ]
  },
  {
   "cell_type": "code",
   "execution_count": null,
   "id": "6355e91a",
   "metadata": {},
   "outputs": [],
   "source": [
    "#Getting the AUC score\n",
    "metrics.roc_auc_score(y_test,y_predict_2)"
   ]
  },
  {
   "cell_type": "code",
   "execution_count": null,
   "id": "5c9b2137",
   "metadata": {},
   "outputs": [],
   "source": [
    "print(classification_report(y_test, y_predict_2))"
   ]
  },
  {
   "cell_type": "markdown",
   "id": "f780f138",
   "metadata": {},
   "source": [
    "# Visualizing the Data using scatter plots  <a class=\"anchor\" id=\"Feature_visaulization\"></a> "
   ]
  },
  {
   "cell_type": "code",
   "execution_count": null,
   "id": "20cd9db0",
   "metadata": {},
   "outputs": [],
   "source": [
    "#plotting some features with the output to view the data\n",
    "names = [\"location\", \"country\", \"age\",  \"symptom1\", \"symptom2\" , \"symptom3\" , \"symptom4\" , \"diff_sym_hos\"]\n",
    "\n",
    "fig=plt.figure(figsize=(15,22))\n",
    "\n",
    "for idx, i in enumerate(names):\n",
    "    \n",
    "    ax = fig.add_subplot(4,3,idx+1)\n",
    "    plt.xlabel(\"{}\".format(i))\n",
    "    plt.ylabel(\"Result\")\n",
    "    plt.title(\"Plotting each Feature against the Result\")\n",
    "    ax.scatter(X[[i]], y)"
   ]
  },
  {
   "cell_type": "code",
   "execution_count": null,
   "id": "fc98c637",
   "metadata": {},
   "outputs": [],
   "source": [
    "#plotting some features with the other features to view correlation between features\n",
    "index=1\n",
    "figure= plt.figure(figsize=(30,150))\n",
    "for i in names:\n",
    "    for j in names:\n",
    "        if(i!=j):\n",
    "            ax1 = figure.add_subplot(19,3,index)\n",
    "            ax1.scatter(X[[i]],X[[j]] )\n",
    "            plt.xlabel(\"{}\".format(i))\n",
    "            plt.ylabel(\"{}\".format(j))\n",
    "            plt.title(\"Plotting each Feature against the other Features\")\n",
    "            index+=1"
   ]
  },
  {
   "cell_type": "code",
   "execution_count": null,
   "id": "e02c8a60",
   "metadata": {},
   "outputs": [],
   "source": []
  }
 ],
 "metadata": {
  "kernelspec": {
   "display_name": "Python 3 (ipykernel)",
   "language": "python",
   "name": "python3"
  },
  "language_info": {
   "codemirror_mode": {
    "name": "ipython",
    "version": 3
   },
   "file_extension": ".py",
   "mimetype": "text/x-python",
   "name": "python",
   "nbconvert_exporter": "python",
   "pygments_lexer": "ipython3",
   "version": "3.9.4"
  }
 },
 "nbformat": 4,
 "nbformat_minor": 5
}
